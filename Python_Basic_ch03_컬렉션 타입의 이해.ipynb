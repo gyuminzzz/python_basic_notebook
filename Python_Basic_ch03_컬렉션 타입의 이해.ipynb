{
 "cells": [
  {
   "cell_type": "markdown",
   "id": "6e3a20c5",
   "metadata": {},
   "source": [
    "## 컬렉션 타입\n",
    "- 변수 : 하나의 값을 저장할 수 있는 메모리 공간\n",
    "- 컬렉션 타입 : 다양한 자료형의 여러값을 저장 가능\n",
    "- list, dict, tuple, set\n",
    "\n",
    "1. list[]\n",
    "- 시퀀스 자료형 (연속된 값 저장) -> 정렬 가능\n",
    "- mutable (생성 후 변경 가능)\n",
    "- index 사용 -> slicing 가능\n",
    "- packing과 unpacking 가능\n",
    "- 멤버함수: append(), extend(), insert(), remove(), pop(), sort() 등\n",
    "\n",
    "2. tuple()\n",
    "- 시퀀스 자료형 (연속된 값 저장) -> 정렬 불가능\n",
    "- mutable (생성 후 변경 가능)\n",
    "- index 사용 -> slicing 가능\n",
    "- ( ) 생략 가능\n",
    "- 1개의 원소만 가지는 경우 , 사용 -> (1, )\n",
    "\n",
    "3. dict{key:value}\n",
    "- key, value 한 쌍으로 구성된 구조\n",
    "- key를 통해서 value 접근\n",
    "- key 중복 불가, value 중복 가능\n",
    "- 순서 없음 -> index 없음\n",
    "- 멤버함수: update(), get(), keys(), values(), items()\n",
    "\n",
    "4. set{}\n",
    "- dict type에서 key만 화룡ㅇ하는 데이터구조로 이해\n",
    "- 수학 집합과 같은 개념\n",
    "- 순서 없음 -> index 없음\n",
    "- set 구조 내 중복값 허용 안 함\n",
    "- 멤버함수: union(), intersection(), difference() 등\n"
   ]
  },
  {
   "cell_type": "code",
   "execution_count": 2,
   "id": "7a376246",
   "metadata": {},
   "outputs": [],
   "source": [
    "# list 초기화\n",
    "# 1. [ ]\n",
    "# 2. list ()\n",
    "\n",
    "list_a = []\n",
    "list_b = [1, 2, 3]\n",
    "list_c = [\"CNU\", 3.14, [1,2,3]]"
   ]
  },
  {
   "cell_type": "code",
   "execution_count": 4,
   "id": "f3860c56",
   "metadata": {},
   "outputs": [
    {
     "name": "stdout",
     "output_type": "stream",
     "text": [
      "['H', 'e', 'l', 'l', 'o']\n",
      "[1, 2, 3]\n"
     ]
    }
   ],
   "source": [
    "str_a = \"Hello\"\n",
    "list_d = list(str_a)  # 문자열 -> list 형변환\n",
    "print(list_d)\n",
    "\n",
    "tuple_a = (1, 2, 3)\n",
    "list_e = list(tuple_a)\n",
    "print(list_e)"
   ]
  },
  {
   "cell_type": "code",
   "execution_count": 6,
   "id": "a2019866",
   "metadata": {},
   "outputs": [
    {
     "name": "stdout",
     "output_type": "stream",
     "text": [
      "4\n",
      "[2, 3]\n",
      "[1, 2]\n"
     ]
    }
   ],
   "source": [
    "list_f = [1, 2, 3, 4, 5]\n",
    "print(list_f[3])\n",
    "print(list_f[1:3])\n",
    "print(list_f[:2])"
   ]
  },
  {
   "cell_type": "code",
   "execution_count": 7,
   "id": "93dcb59d",
   "metadata": {},
   "outputs": [
    {
     "name": "stdout",
     "output_type": "stream",
     "text": [
      "[1, 2, 3, 10]\n"
     ]
    }
   ],
   "source": [
    "# append() : list 마지막에 값을 추가\n",
    "a = [1, 2, 3]\n",
    "a.append(10)\n",
    "print(a)"
   ]
  },
  {
   "cell_type": "code",
   "execution_count": 12,
   "id": "b7e1de46",
   "metadata": {},
   "outputs": [
    {
     "name": "stdout",
     "output_type": "stream",
     "text": [
      "[1, 2, 99, 3]\n"
     ]
    }
   ],
   "source": [
    "# insert(): list 원하는 인덱스 위치에 값을 추가\n",
    "a  = [1, 2, 3]\n",
    "a.insert(1, 99)  ## 1번 인덱스에 추가\n",
    "print(a)"
   ]
  },
  {
   "cell_type": "code",
   "execution_count": 15,
   "id": "5dff483f",
   "metadata": {},
   "outputs": [
    {
     "name": "stdout",
     "output_type": "stream",
     "text": [
      "[1, 2, 3, [4, 5, 6]]\n"
     ]
    }
   ],
   "source": [
    "# extend() : list와 list 병합\n",
    "a = [1, 2, 3]\n",
    "b = [4, 5, 6]\n",
    "\n",
    "a.append(b)\n",
    "print(a)"
   ]
  },
  {
   "cell_type": "code",
   "execution_count": 3,
   "id": "3f31de2a",
   "metadata": {},
   "outputs": [
    {
     "name": "stdout",
     "output_type": "stream",
     "text": [
      "[1, 2, 3, 4, 5, 6]\n"
     ]
    }
   ],
   "source": [
    "a = [1, 2, 3]\n",
    "b = [4, 5, 6]\n",
    "\n",
    "# a.extend(b)\n",
    "a+=b  # a=a+b\n",
    "\n",
    "print(a)"
   ]
  },
  {
   "cell_type": "code",
   "execution_count": 5,
   "id": "ffff3967",
   "metadata": {},
   "outputs": [
    {
     "name": "stdout",
     "output_type": "stream",
     "text": [
      "[1, 3]\n"
     ]
    }
   ],
   "source": [
    "# remove() : '값'을 통해서 삭제 (인덱스 x)\n",
    "a=[1, 2, 3]\n",
    "a.remove(2)\n",
    "print(a)"
   ]
  },
  {
   "cell_type": "code",
   "execution_count": 7,
   "id": "d3e5d206",
   "metadata": {},
   "outputs": [
    {
     "name": "stdout",
     "output_type": "stream",
     "text": [
      "[4, 5]\n",
      "6\n"
     ]
    }
   ],
   "source": [
    "# pop() : 인덱스를 통해서 삭제 (+ 삭제 전 값을 변수에 저장)\n",
    "a = [4, 5, 6]\n",
    "# a.pop(1)\n",
    "b = a.pop(2)\n",
    "print(a)\n",
    "print(b)"
   ]
  },
  {
   "cell_type": "code",
   "execution_count": 1,
   "id": "404f980b",
   "metadata": {},
   "outputs": [
    {
     "name": "stdout",
     "output_type": "stream",
     "text": [
      "2\n"
     ]
    }
   ],
   "source": [
    "# index() : 찾고자 하는 값의 인덱스 번호 출력\n",
    "a =[8, 10, 20, 5, 3]\n",
    "print(a.index(20))"
   ]
  },
  {
   "cell_type": "code",
   "execution_count": 15,
   "id": "66e922ad",
   "metadata": {},
   "outputs": [
    {
     "data": {
      "text/plain": [
       "'stkdczy'"
      ]
     },
     "execution_count": 15,
     "metadata": {},
     "output_type": "execute_result"
    }
   ],
   "source": [
    "email = \"stkdczy@gmail.com\"\n",
    "email_idx = email.index(\"@\")\n",
    "email[:email_idx]"
   ]
  },
  {
   "cell_type": "code",
   "execution_count": 20,
   "id": "dc58c56d",
   "metadata": {},
   "outputs": [
    {
     "name": "stdout",
     "output_type": "stream",
     "text": [
      "True\n",
      "False\n"
     ]
    }
   ],
   "source": [
    "# in : list내에 해당 값이 존재 (True, False)\n",
    "a=[1, 2, 3]\n",
    "print(3 in a)\n",
    "print(5 in a)"
   ]
  },
  {
   "cell_type": "code",
   "execution_count": 5,
   "id": "68de40b0",
   "metadata": {},
   "outputs": [
    {
     "name": "stdout",
     "output_type": "stream",
     "text": [
      "리스트 a 출력: [9, 5, 1, 2, 10, 15, 12]\n",
      "오름차순 출력: [1, 2, 5, 9, 10, 12, 15]\n",
      "====================\n",
      "내림차순 출력: [15, 12, 10, 9, 5, 2, 1]\n"
     ]
    }
   ],
   "source": [
    "# sort() and sorted() : list 정렬\n",
    "# - sort() : 원본 list 정렬\n",
    "# - sorted(): list 복제 후 정렬\n",
    "\n",
    "a = [9, 5, 1, 2, 10, 15, 12]\n",
    "\n",
    "b = sorted(a)  # 정렬 default : 오름차순\n",
    "print(\"리스트 a 출력:\",a)\n",
    "print(\"오름차순 출력:\",b)\n",
    "print(\"=\" * 20)\n",
    "a.sort(reverse=True)  # reverse -> 내림차순\n",
    "print(\"내림차순 출력:\",a)"
   ]
  },
  {
   "cell_type": "markdown",
   "id": "7360b675",
   "metadata": {},
   "source": [
    "### 2. tuple"
   ]
  },
  {
   "cell_type": "code",
   "execution_count": 6,
   "id": "b0bf56e6",
   "metadata": {},
   "outputs": [
    {
     "name": "stdout",
     "output_type": "stream",
     "text": [
      "<class 'list'>\n",
      "<class 'tuple'>\n",
      "<class 'tuple'>\n",
      "[99, 2, 3]\n"
     ]
    }
   ],
   "source": [
    "a = [1, 2, 3]  # list type\n",
    "b= (1, 2, 3)  # tuple type\n",
    "c= 5, 6, 7  # tuple type (튜플은 괄호 생략 가능)\n",
    "\n",
    "print(type(a))\n",
    "print(type(b))\n",
    "print(type(c))\n",
    "\n",
    "a[0] = 99\n",
    "print(a)\n",
    "\n",
    "# b[0]=99\n",
    "# print(b)  # 튜플은 변경이 불가하여 에러 발생"
   ]
  },
  {
   "cell_type": "code",
   "execution_count": 30,
   "id": "d611f393",
   "metadata": {},
   "outputs": [
    {
     "name": "stdout",
     "output_type": "stream",
     "text": [
      "1 2 3\n"
     ]
    }
   ],
   "source": [
    "# packing and unpacking\n",
    "# - list 와 tuple 가능\n",
    "# - [], () -> 값을 묶음(packing)\n",
    "\n",
    "tuple_num = (1, 2, 3)  # packing\n",
    "a, b, c = tuple_num    # unpacking\n",
    "print(a, b, c)\n"
   ]
  },
  {
   "cell_type": "markdown",
   "id": "77f6e969",
   "metadata": {},
   "source": [
    "### 연습문제\n",
    "\n",
    "변수 a와 b의 값을 교환 하세요"
   ]
  },
  {
   "cell_type": "code",
   "execution_count": 37,
   "id": "da51cd39",
   "metadata": {},
   "outputs": [
    {
     "name": "stdout",
     "output_type": "stream",
     "text": [
      "9\n",
      "5\n"
     ]
    }
   ],
   "source": [
    "a = 5\n",
    "b = 9\n",
    "\n",
    "# 코드 작성\n",
    "# 1. 임시 변수 사용\n",
    "# temp = a\n",
    "# a = b\n",
    "# b = temp\n",
    "\n",
    "# 2. tuple 사용\n",
    "a, b = b, a\n",
    "\n",
    "print(a)  # 출력 9\n",
    "print(b)  # 출력 5\n"
   ]
  },
  {
   "cell_type": "code",
   "execution_count": 39,
   "id": "c274dee4",
   "metadata": {},
   "outputs": [],
   "source": [
    "### 3. dict"
   ]
  },
  {
   "cell_type": "code",
   "execution_count": 43,
   "id": "0e3f9f1e",
   "metadata": {},
   "outputs": [
    {
     "name": "stdout",
     "output_type": "stream",
     "text": [
      "ottawa\n",
      "9\n"
     ]
    }
   ],
   "source": [
    "dict_a = { \"korea\": \"seoul\",\n",
    "                 \"canada\":\"ottawa\",\n",
    "                 \"usa\": \"washington D.C\" }\n",
    "dict_b = {0:1, 1:6, 2:4, 3:9}\n",
    "\n",
    "print(dict_a[\"canada\"])\n",
    "print(dict_b[3])"
   ]
  },
  {
   "cell_type": "code",
   "execution_count": 49,
   "id": "c3698534",
   "metadata": {},
   "outputs": [
    {
     "name": "stdout",
     "output_type": "stream",
     "text": [
      "{'canada': 'ottawa',\n",
      " 'japan': 'kyoto',\n",
      " 'japan2': 'kyoto',\n",
      " 'korea': 'seoul',\n",
      " 'usa': 'washington D.C'}\n"
     ]
    }
   ],
   "source": [
    "import pprint\n",
    "dict_a = { \"korea\": \"seoul\",\n",
    "                 \"canada\":\"ottawa\",\n",
    "                 \"usa\": \"washington D.C\" }\n",
    "\n",
    "# 값을 입력 -> key값이 X: 입력, O: 수정\n",
    "dict_a[\"japan\"] = \"tokyo\"\n",
    "dict_a[\"japan\"] = \"kyoto\"\n",
    "dict_a[\"japan2\"] = \"kyoto\"\n",
    "\n",
    "\n",
    "# print(dict_a)\n",
    "pprint.pprint(dict_a)"
   ]
  },
  {
   "cell_type": "code",
   "execution_count": 54,
   "id": "6e9d7d9f",
   "metadata": {},
   "outputs": [
    {
     "name": "stdout",
     "output_type": "stream",
     "text": [
      "{'a': 9, 'b': 2, 'd': 4, 'e': 5}\n"
     ]
    }
   ],
   "source": [
    "# update() : dict와 dict 병합\n",
    "a = { \"a\" : 1,\n",
    "        \"b\" : 2 }\n",
    "\n",
    "b = {\"a\" : 9,\n",
    "    \"d\" : 4,\n",
    "    \"e\" : 5}\n",
    "\n",
    "a.update(b)\n",
    "print(a)"
   ]
  },
  {
   "cell_type": "code",
   "execution_count": 9,
   "id": "fde3a9fc",
   "metadata": {},
   "outputs": [
    {
     "name": "stdout",
     "output_type": "stream",
     "text": [
      "{'b': 2}\n",
      "1\n"
     ]
    }
   ],
   "source": [
    "# pop() : dict 항목 삭제\n",
    "\n",
    "c = a.pop(\"a\")\n",
    "print(a)\n",
    "print(c)"
   ]
  },
  {
   "cell_type": "code",
   "execution_count": 2,
   "id": "affe2fed",
   "metadata": {},
   "outputs": [
    {
     "ename": "KeyError",
     "evalue": "'e'",
     "output_type": "error",
     "traceback": [
      "\u001b[1;31m---------------------------------------------------------------------------\u001b[0m",
      "\u001b[1;31mKeyError\u001b[0m                                  Traceback (most recent call last)",
      "\u001b[1;32m~\\AppData\\Local\\Temp\\ipykernel_13308\\670366477.py\u001b[0m in \u001b[0;36m<module>\u001b[1;34m\u001b[0m\n\u001b[0;32m      2\u001b[0m a = { \"a\" : 1,\n\u001b[0;32m      3\u001b[0m         \"b\" : 2 }\n\u001b[1;32m----> 4\u001b[1;33m \u001b[0mprint\u001b[0m\u001b[1;33m(\u001b[0m\u001b[0ma\u001b[0m\u001b[1;33m[\u001b[0m\u001b[1;34m\"e\"\u001b[0m\u001b[1;33m]\u001b[0m\u001b[1;33m)\u001b[0m\u001b[1;33m\u001b[0m\u001b[1;33m\u001b[0m\u001b[0m\n\u001b[0m\u001b[0;32m      5\u001b[0m \u001b[1;31m# print(a[\"f\"])\u001b[0m\u001b[1;33m\u001b[0m\u001b[1;33m\u001b[0m\u001b[0m\n\u001b[0;32m      6\u001b[0m \u001b[0mprint\u001b[0m\u001b[1;33m(\u001b[0m\u001b[0ma\u001b[0m\u001b[1;33m.\u001b[0m\u001b[0mget\u001b[0m\u001b[1;33m(\u001b[0m\u001b[1;34m\"f\"\u001b[0m\u001b[1;33m)\u001b[0m\u001b[1;33m)\u001b[0m\u001b[1;33m\u001b[0m\u001b[1;33m\u001b[0m\u001b[0m\n",
      "\u001b[1;31mKeyError\u001b[0m: 'e'"
     ]
    }
   ],
   "source": [
    "# 값 접근\n",
    "print(a[\"e\"])\n",
    "# print(a[\"f\"])\n",
    "print(a.get(\"f\"))"
   ]
  },
  {
   "cell_type": "code",
   "execution_count": 12,
   "id": "4be6eef1",
   "metadata": {},
   "outputs": [
    {
     "name": "stdout",
     "output_type": "stream",
     "text": [
      "False\n"
     ]
    }
   ],
   "source": [
    "# in\n",
    "print(\"b\" in a)"
   ]
  },
  {
   "cell_type": "code",
   "execution_count": 4,
   "id": "7599c2c4",
   "metadata": {},
   "outputs": [
    {
     "name": "stdout",
     "output_type": "stream",
     "text": [
      "{'a': 1, 'b': 2}\n",
      "{}\n"
     ]
    }
   ],
   "source": [
    "# clear() : dict 초기화\n",
    "a = { \"a\" : 1,\n",
    "        \"b\" : 2 }\n",
    "\n",
    "print(a)\n",
    "a.clear()\n",
    "print(a)"
   ]
  },
  {
   "cell_type": "code",
   "execution_count": 31,
   "id": "b519146f",
   "metadata": {},
   "outputs": [
    {
     "name": "stdout",
     "output_type": "stream",
     "text": [
      "{'a': 1, 'b': 2}\n",
      "<class 'dict_keys'> dict_keys(['a', 'b'])\n",
      "<class 'dict_values'> dict_values([1, 2])\n",
      "<class 'dict_items'> dict_items([('a', 1), ('b', 2)])\n",
      "['a', 'b']\n",
      "<class 'list'>\n",
      "[('a', 1), ('b', 2)]\n",
      "<class 'list'>\n",
      "<class 'tuple'>\n"
     ]
    }
   ],
   "source": [
    "# keys(): key값만 반환\n",
    "# values(): value값만 반환\n",
    "# items(): key, value를 튜플로 반환\n",
    "a = { \"a\" : 1,\n",
    "        \"b\" : 2 }\n",
    "print(a)\n",
    "print(type(a.keys()),a.keys())  # list와 유사한 형태\n",
    "print(type(a.values()), a.values())  # list와 유사한 형태\n",
    "print(type(a.items()), a.items())  # tuple\n",
    "\n",
    "print(list(a.keys()))\n",
    "print(type(list(a.keys())))\n",
    "\n",
    "print(list(a.items()))\n",
    "val = list(a.items())\n",
    "print(type(val))\n",
    "print(type(val[0]))\n"
   ]
  },
  {
   "cell_type": "markdown",
   "id": "e357eb42",
   "metadata": {},
   "source": [
    "### 4. set (집합)"
   ]
  },
  {
   "cell_type": "code",
   "execution_count": 33,
   "id": "20de2a9a",
   "metadata": {},
   "outputs": [
    {
     "name": "stdout",
     "output_type": "stream",
     "text": [
      "[1, 1, 1, 2, 2, 2, 3, 3, 4, 4, 5]\n",
      "{1, 2, 3, 4, 5}\n",
      "<class 'dict'>\n"
     ]
    }
   ],
   "source": [
    "list_z = [1, 1, 1, 2, 2, 2, 3, 3, 4, 4, 5]\n",
    "print(list_z)\n",
    "\n",
    "set_a=set(list_z)\n",
    "print(set_a)\n",
    "\n",
    "# set? or dict?\n",
    "j= {}  # 괄호만 하면 dict\n",
    "print(type(j))"
   ]
  },
  {
   "cell_type": "code",
   "execution_count": 38,
   "id": "501fc768",
   "metadata": {},
   "outputs": [
    {
     "name": "stdout",
     "output_type": "stream",
     "text": [
      "{1, 2, 3, 4}\n",
      "{2, 3}\n",
      "{1}\n",
      "False\n"
     ]
    }
   ],
   "source": [
    "a= {1, 2, 3}\n",
    "b={2, 3, 4}\n",
    "\n",
    "# 시험 출제 X\n",
    "print(a.union(b))  # 합집합\n",
    "print(a.intersection(b))  # 교집합\n",
    "print(a.difference(b))  # 차집합\n",
    "print(a.issubset(b))  # 부분집합(b가 {1, 2, 3, 4} 면 True 반환)"
   ]
  },
  {
   "cell_type": "markdown",
   "id": "5a6659e3",
   "metadata": {},
   "source": [
    "dict:{key:value}\n",
    "set:집합, 중복값x,{1,2,3}(빈칸{}->dict)"
   ]
  }
 ],
 "metadata": {
  "kernelspec": {
   "display_name": "Python 3 (ipykernel)",
   "language": "python",
   "name": "python3"
  },
  "language_info": {
   "codemirror_mode": {
    "name": "ipython",
    "version": 3
   },
   "file_extension": ".py",
   "mimetype": "text/x-python",
   "name": "python",
   "nbconvert_exporter": "python",
   "pygments_lexer": "ipython3",
   "version": "3.9.13"
  }
 },
 "nbformat": 4,
 "nbformat_minor": 5
}
