{
 "cells": [
  {
   "cell_type": "markdown",
   "id": "63ffd673",
   "metadata": {},
   "source": [
    "## 1. 문자열(String)\n",
    "- 복수개의 문자를 순서대로 나열한 것 \n",
    "- 문자열은 ' ' 또는 \" \" 사이에 문자를 넣어서 생성\n",
    "- 문자열 자체에 ' ' 또는 \" \"이 있는 경우 각각 그 반대로 사용"
   ]
  },
  {
   "cell_type": "code",
   "execution_count": 2,
   "id": "172da46d",
   "metadata": {},
   "outputs": [
    {
     "name": "stdout",
     "output_type": "stream",
     "text": [
      " 챗봇: \"만나서 반갑습니다.\" \n"
     ]
    }
   ],
   "source": [
    "print( ' 챗봇: \"만나서 반갑습니다.\" ')"
   ]
  },
  {
   "cell_type": "code",
   "execution_count": 6,
   "id": "1a8f60f2",
   "metadata": {},
   "outputs": [
    {
     "name": "stdout",
     "output_type": "stream",
     "text": [
      "Hi\n",
      "Hi\n",
      "\n",
      "        Hi\n",
      "        Hello\n",
      "        \n",
      "\n",
      "        Hi\n",
      "        \n"
     ]
    }
   ],
   "source": [
    "print('Hi')  # 한 줄 출력\n",
    "print(\"Hi\") # 한 줄 출력\n",
    "print('''\n",
    "        Hi\n",
    "        Hello\n",
    "        ''')\n",
    "print(\"\"\"\n",
    "        Hi\n",
    "        \"\"\")\n"
   ]
  },
  {
   "cell_type": "markdown",
   "id": "f585b3cd",
   "metadata": {},
   "source": [
    "## 2. 문자열 인덱스(index)\n",
    "- 문자열의 각 문자는 순서(인덱스)가 있음\n",
    "- 첫번째 문자부터 마지막 문자까지 순차적으로 인덱스를 가짐\n",
    "- 인덱스는 0번부터 시작\n",
    "- 인덱스는 공백을 포함"
   ]
  },
  {
   "cell_type": "markdown",
   "id": "abb28ddf",
   "metadata": {},
   "source": [
    "### 문자 추출\n",
    "- 인덱스 번호를 통해서 문자 추출 가능\n",
    "- 인덱스 범위를 벗어나면 error 발생\n",
    "\n",
    "> 변수명[인덱스번호] -> name[3]"
   ]
  },
  {
   "cell_type": "code",
   "execution_count": 10,
   "id": "4f950d58",
   "metadata": {},
   "outputs": [
    {
     "name": "stdout",
     "output_type": "stream",
     "text": [
      "o\n"
     ]
    },
    {
     "ename": "IndexError",
     "evalue": "string index out of range",
     "output_type": "error",
     "traceback": [
      "\u001b[1;31m---------------------------------------------------------------------------\u001b[0m",
      "\u001b[1;31mIndexError\u001b[0m                                Traceback (most recent call last)",
      "\u001b[1;32m~\\AppData\\Local\\Temp\\ipykernel_11040\\2063200358.py\u001b[0m in \u001b[0;36m<module>\u001b[1;34m\u001b[0m\n\u001b[0;32m      3\u001b[0m \u001b[0mmsg\u001b[0m \u001b[1;33m=\u001b[0m \u001b[1;34m\"Hello Python\"\u001b[0m\u001b[1;33m\u001b[0m\u001b[1;33m\u001b[0m\u001b[0m\n\u001b[0;32m      4\u001b[0m \u001b[0mprint\u001b[0m\u001b[1;33m(\u001b[0m\u001b[0mmsg\u001b[0m\u001b[1;33m[\u001b[0m\u001b[1;36m4\u001b[0m\u001b[1;33m]\u001b[0m\u001b[1;33m)\u001b[0m\u001b[1;33m\u001b[0m\u001b[1;33m\u001b[0m\u001b[0m\n\u001b[1;32m----> 5\u001b[1;33m \u001b[0mprint\u001b[0m\u001b[1;33m(\u001b[0m\u001b[0mmsg\u001b[0m\u001b[1;33m[\u001b[0m\u001b[1;36m12\u001b[0m\u001b[1;33m]\u001b[0m\u001b[1;33m)\u001b[0m\u001b[1;33m\u001b[0m\u001b[1;33m\u001b[0m\u001b[0m\n\u001b[0m",
      "\u001b[1;31mIndexError\u001b[0m: string index out of range"
     ]
    }
   ],
   "source": [
    "# 문자열 길이: 12\n",
    "# 인덱스 범위: 0~11\n",
    "msg = \"Hello Python\"\n",
    "print(msg[4])\n",
    "print(msg[12])  # 인덱스 범위를 벗어나서 오류 발생"
   ]
  },
  {
   "cell_type": "markdown",
   "id": "48a22ff3",
   "metadata": {},
   "source": [
    "## reverse index(-1)"
   ]
  },
  {
   "cell_type": "code",
   "execution_count": 11,
   "id": "9b9615e0",
   "metadata": {},
   "outputs": [
    {
     "name": "stdout",
     "output_type": "stream",
     "text": [
      "n\n",
      "h\n"
     ]
    }
   ],
   "source": [
    "msg = \"Hello Python\"\n",
    "\n",
    "print(msg[-1])\n",
    "print(msg[-3])"
   ]
  },
  {
   "cell_type": "markdown",
   "id": "296df77c",
   "metadata": {},
   "source": [
    "## 3. 문자열 슬라이싱\n",
    "- a[3]은 인덱스를 통해 문자 하나만 추출 가능\n",
    "- 부분 문자열을 추출하고 싶은 경우 슬라ㅣㅇ싱 사용\n",
    "- 시작 인덱스 번호가 생략되면 0으로 설정\n",
    "- 끝 인덱스 번호가 생략되면 -1로 설정\n",
    "\n",
    "> 변수명[시작:끝] -> name [3:5] => 3~4(끝 인덱스-1)"
   ]
  },
  {
   "cell_type": "code",
   "execution_count": 13,
   "id": "e2cc4297",
   "metadata": {},
   "outputs": [
    {
     "name": "stdout",
     "output_type": "stream",
     "text": [
      "P\n",
      "Python\n"
     ]
    }
   ],
   "source": [
    "comment = 'Python is all you need'\n",
    "\n",
    "print(comment[0])\n",
    "print(comment[0:6])  # 0~5\n",
    "print(comment[:6])    # 0~5 (처음부터)\n",
    "print(comment[6:])    # 6~끝까지\n",
    "print(comment[:])      # 처음부터 끝까지"
   ]
  },
  {
   "cell_type": "code",
   "execution_count": 22,
   "id": "8027bddf",
   "metadata": {},
   "outputs": [
    {
     "name": "stdout",
     "output_type": "stream",
     "text": [
      "need\n"
     ]
    }
   ],
   "source": [
    "# need만 추출\n",
    "comment = 'Python is all you need'\n",
    "print(comment[-4:])"
   ]
  },
  {
   "cell_type": "markdown",
   "id": "7f328b54",
   "metadata": {},
   "source": [
    "## 4. 문자열 멤버 함수"
   ]
  },
  {
   "cell_type": "code",
   "execution_count": 6,
   "id": "f69c2074",
   "metadata": {},
   "outputs": [],
   "source": [
    "str = \"Hello World\""
   ]
  },
  {
   "cell_type": "code",
   "execution_count": 25,
   "id": "a32d4e50",
   "metadata": {},
   "outputs": [
    {
     "name": "stdout",
     "output_type": "stream",
     "text": [
      "11\n"
     ]
    }
   ],
   "source": [
    "#l len() : 문자열 길이를 계산\n",
    "print(len(str))"
   ]
  },
  {
   "cell_type": "code",
   "execution_count": 7,
   "id": "72cf4d64",
   "metadata": {},
   "outputs": [
    {
     "name": "stdout",
     "output_type": "stream",
     "text": [
      "HELLO WORLD\n",
      "hello world\n"
     ]
    }
   ],
   "source": [
    "# upper() & lower() : 대문자/소문자로 변경\n",
    "\n",
    "print(str.upper())\n",
    "print(str.lower())"
   ]
  },
  {
   "cell_type": "code",
   "execution_count": 30,
   "id": "1ec6c126",
   "metadata": {},
   "outputs": [
    {
     "data": {
      "text/plain": [
       "'HellO WOrld'"
      ]
     },
     "execution_count": 30,
     "metadata": {},
     "output_type": "execute_result"
    }
   ],
   "source": [
    "# replace() : 문자열 내의 특정 문자 치환\n",
    "str.replace(\"o\", \"O\")  # 복수개 치환"
   ]
  },
  {
   "cell_type": "code",
   "execution_count": 33,
   "id": "fbd97a22",
   "metadata": {},
   "outputs": [
    {
     "name": "stdout",
     "output_type": "stream",
     "text": [
      "['hello ', 'orld ', 'hat a nice ', 'eather']\n",
      "['hello', 'world', 'what', 'a', 'nice', 'weather']\n"
     ]
    }
   ],
   "source": [
    "# split() : 구분자를 기준으로 문자열 분할, default 구분자 공백\n",
    "a = \"hello world what a nice weather\"\n",
    "print(a.split(\"w\"))\n",
    "print(a.split())"
   ]
  },
  {
   "cell_type": "code",
   "execution_count": 9,
   "id": "cccfa833",
   "metadata": {},
   "outputs": [
    {
     "name": "stdout",
     "output_type": "stream",
     "text": [
      "아이디:      stkdczy      , 길이: 18\n",
      "아이디: stkdczy, 길이: 7\n"
     ]
    }
   ],
   "source": [
    "# strip() : 문자열의 좌우공백을 제거 \n",
    "id = \"     stkdczy      \"\n",
    "print(f\"아이디: {id}, 길이: {len(id)}\")\n",
    "print(f\"아이디: {id.strip()}, 길이: {len(id.strip())}\")\n"
   ]
  },
  {
   "cell_type": "code",
   "execution_count": 18,
   "id": "1dc2ff17",
   "metadata": {},
   "outputs": [
    {
     "name": "stdout",
     "output_type": "stream",
     "text": [
      "2\n",
      "3\n",
      "6\n",
      "6\n"
     ]
    }
   ],
   "source": [
    "#  find() and rfind()\n",
    "#  - 문자열 내부 특정 문자의 인덱스를 출력\n",
    "str = \"Hello Python\"\n",
    "print(str.find('l'))\n",
    "print(str.rfind('l'))\n",
    "print(str.find('Python'))\n",
    "print(str.rfind('Python'))"
   ]
  },
  {
   "cell_type": "code",
   "execution_count": 20,
   "id": "e07db1ca",
   "metadata": {},
   "outputs": [
    {
     "name": "stdout",
     "output_type": "stream",
     "text": [
      "True\n",
      "False\n"
     ]
    }
   ],
   "source": [
    "# in() : 특정 문자열을 포함하고 있는지 확인 (True, False)\n",
    "\n",
    "print(\"Hi\" in \"Hi Python\")\n",
    "print(\"Hi\" in \"Hello Python\")"
   ]
  }
 ],
 "metadata": {
  "kernelspec": {
   "display_name": "Python 3 (ipykernel)",
   "language": "python",
   "name": "python3"
  },
  "language_info": {
   "codemirror_mode": {
    "name": "ipython",
    "version": 3
   },
   "file_extension": ".py",
   "mimetype": "text/x-python",
   "name": "python",
   "nbconvert_exporter": "python",
   "pygments_lexer": "ipython3",
   "version": "3.9.13"
  }
 },
 "nbformat": 4,
 "nbformat_minor": 5
}
