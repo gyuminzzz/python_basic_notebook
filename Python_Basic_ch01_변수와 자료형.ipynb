{
 "cells": [
  {
   "cell_type": "markdown",
   "id": "e778bbeb",
   "metadata": {},
   "source": [
    "### 1. 출력 함수(print) \n",
    "print()\n",
    "- ()안의 값을 출력해주는 함수\n",
    "- 변수 값을 확인하는 용도로도 사용\n"
   ]
  },
  {
   "cell_type": "code",
   "execution_count": 7,
   "id": "8ab1fde0",
   "metadata": {},
   "outputs": [
    {
     "name": "stdout",
     "output_type": "stream",
     "text": [
      "Hello Python\n",
      "Hello Python\n",
      "25\n",
      "3.14\n",
      "True\n"
     ]
    }
   ],
   "source": [
    "print(\"Hello Python\")\n",
    "print('Hello Python')\n",
    "print(25)\n",
    "print(3.14)\n",
    "print(True)"
   ]
  },
  {
   "cell_type": "markdown",
   "id": "17eee58f",
   "metadata": {},
   "source": [
    "#### 참고. Escape 코드\n",
    "- 문자열 내의 일부 문자의 의미를 달리하여 특정한 효과를 주는 것\n",
    "- \\n: 한 줄 개행\n",
    "- \\t: 탭(8칸 공백)\n"
   ]
  },
  {
   "cell_type": "code",
   "execution_count": 10,
   "id": "1df0b0a0",
   "metadata": {},
   "outputs": [
    {
     "name": "stdout",
     "output_type": "stream",
     "text": [
      "Hello \n",
      " Python\n",
      "Hello \t Python\n"
     ]
    }
   ],
   "source": [
    "print(\"Hello \\n Python\")\n",
    "print(\"Hello \\t Python\")"
   ]
  },
  {
   "cell_type": "markdown",
   "id": "185108db",
   "metadata": {},
   "source": [
    "소수점 출력하기\n",
    "- {0.3d}: 0번째, 3글자, d(정수)\n",
    "- {1:3.2f}: 1번째, 3글자, 소수점 2자리, f(실수)"
   ]
  },
  {
   "cell_type": "code",
   "execution_count": 19,
   "id": "e296a309",
   "metadata": {},
   "outputs": [
    {
     "name": "stdout",
     "output_type": "stream",
     "text": [
      "이름: 최규민, 학점: 4.0\n",
      "Test1: 369, Test2: 623.46\n"
     ]
    }
   ],
   "source": [
    "print(\"이름: {}, 학점: {}\".format(\"최규민\",4.0))\n",
    "print(\"Test1: {0:3d}, Test2: {1:3.2f}\".format(369,623.4567))"
   ]
  },
  {
   "cell_type": "markdown",
   "id": "e9a8db06",
   "metadata": {},
   "source": [
    "### 2.주석(comment)\n",
    "\n",
    "- 코드에서 #으로 시작하는 뒷 부분을 실행하지 않음\n",
    "- python 소스코드 실행 시 #은 무시하고 실행\n",
    "- 개발자(사람)가 보기 위한 용도로 사용\n",
    "- 개발 시 주석을 잘 활용하는 사람이 좋은 개발자"
   ]
  },
  {
   "cell_type": "code",
   "execution_count": 25,
   "id": "0750c88b",
   "metadata": {},
   "outputs": [
    {
     "name": "stdout",
     "output_type": "stream",
     "text": [
      "214073\n"
     ]
    }
   ],
   "source": [
    "student_num = \"214073\"  # 학번\n",
    "\n",
    "# 학번 출력\n",
    "print(student_num)"
   ]
  },
  {
   "cell_type": "markdown",
   "id": "7d8ed870",
   "metadata": {},
   "source": [
    "### 3. 자료형(Type)\n",
    "\n",
    "1. 문자열(String): \"Hello\", 'Hi'\n",
    "2. 정수형 숫자(int): 3, 0, -1 \n",
    "3. 실수형 숫자(float): 3.1, 0.0, -2.2\n",
    "4. 논리형(boolean): True, False\n",
    "\n",
    "- type() 함수를 사용해서 자료형 확인 가능"
   ]
  },
  {
   "cell_type": "code",
   "execution_count": 26,
   "id": "7aa8739a",
   "metadata": {},
   "outputs": [
    {
     "name": "stdout",
     "output_type": "stream",
     "text": [
      "<class 'float'>\n",
      "<class 'str'>\n"
     ]
    },
    {
     "data": {
      "text/plain": [
       "str"
      ]
     },
     "execution_count": 26,
     "metadata": {},
     "output_type": "execute_result"
    }
   ],
   "source": [
    "print(type(3.14))\n",
    "print(type(\"Hi\"))\n",
    "type(3.14)\n",
    "type(\"Hi\")  #Jupyter Notebook / Colab에선 마지막 라인 출력 o"
   ]
  },
  {
   "cell_type": "markdown",
   "id": "235c7665",
   "metadata": {},
   "source": [
    "형 변환 (Type Casting)\n",
    "\n",
    "- 형변환을 사용하면 자료형을 원하는 type으로 변환 가능\n",
    "\n",
    "1. int(): () 안의 값을 정수형으로 변환\n",
    "2. float(): ()안의 값을 실수형으로 변환\n",
    "3. str(): ()안의 값을 문자열형으로 변환"
   ]
  },
  {
   "cell_type": "code",
   "execution_count": 29,
   "id": "e5c9c70f",
   "metadata": {},
   "outputs": [
    {
     "name": "stdout",
     "output_type": "stream",
     "text": [
      "3\n",
      "3.0\n",
      "3\n",
      "<class 'int'>\n",
      "3.14\n",
      "<class 'float'>\n",
      "3.0\n",
      "<class 'float'>\n"
     ]
    }
   ],
   "source": [
    "# 형변환이 안 되는 것들\n",
    "# int(\"문자열\")    (X)\n",
    "#float(\"문자열\")  (X)\n",
    "\n",
    "# 실수형 -> 정수형 (O)\n",
    "a = 3.14\n",
    "print(int(a))\n",
    "\n",
    "# 정수형 -> 실수형 (O)\n",
    "b = 3\n",
    "print(float(b))\n",
    "\n",
    "# 문자열 정수형 -> 정수형 (O)\n",
    "c = \"3\"\n",
    "print(int(c))\n",
    "print(type(int(c)))  # <class 'int'>\n",
    "\n",
    "# 문자열 실수형 -> 실수형 (O)\n",
    "d = \"3.14\"\n",
    "print(float(d))\n",
    "print(type(float(d)))  # <class 'float'>\n",
    "\n",
    "# 문자열 실수형 -> 정수형 (X)\n",
    "\n",
    "# 문자열 정수형 -> 실수형 (O)\n",
    "print(float(c))\n",
    "print(type(float(c)))  # <class 'float'>"
   ]
  },
  {
   "cell_type": "code",
   "execution_count": null,
   "id": "31b7ac58",
   "metadata": {},
   "outputs": [],
   "source": []
  }
 ],
 "metadata": {
  "kernelspec": {
   "display_name": "Python 3 (ipykernel)",
   "language": "python",
   "name": "python3"
  },
  "language_info": {
   "codemirror_mode": {
    "name": "ipython",
    "version": 3
   },
   "file_extension": ".py",
   "mimetype": "text/x-python",
   "name": "python",
   "nbconvert_exporter": "python",
   "pygments_lexer": "ipython3",
   "version": "3.9.13"
  }
 },
 "nbformat": 4,
 "nbformat_minor": 5
}
